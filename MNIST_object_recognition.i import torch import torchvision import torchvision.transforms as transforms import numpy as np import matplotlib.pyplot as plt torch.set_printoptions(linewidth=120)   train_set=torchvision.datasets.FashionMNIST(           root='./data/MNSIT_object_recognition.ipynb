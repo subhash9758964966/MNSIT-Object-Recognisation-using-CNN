
import torch
import torchvision
import torchvision.transforms as transforms
import numpy as np
import matplotlib.pyplot as plt
torch.set_printoptions(linewidth=120)


train_set=torchvision.datasets.FashionMNIST(
          root='./data/fasionMNSIT',
          train=True,
          download=False,
          transform=transforms.Compose([transforms.ToTensor()]))
         











class Network(nn.Module):
      def __init__(self):
          super().__init__()
          self.conv1=nn.Conv2d(in_channels=1, out_channels=6, kernel_size=5)
          self.conv2=nn.Conv2d(in_channels=6, out_channels=12, kernel_size=5)
          self.fc1=nn.Linear(in_features=12*4*4, out_features=120)
          self.fc2=nn.Linear(in_features=120, out_features=60)
          self.out=nn.Linear(in_features=60, out_features=10)
      def forward(self, t):
          t=F.relu(self.conv1(t))
          t=F.max_pool2d(t, kernel_size=2, stride=2)
          t=F.relu(self.conv2(t))
          t=F.max_pool2d(t, kernel_size=2, stride=2)
          t=F.relu(self.fc1(t.reshape(-1, 12*4*4)))
          t=F.relu(self.fc2(t))
          t=self.out(t)
          return t

network=Network()



sample=next(iter(train_set))

image,label=sample

image.shape

plt.imshow(image.squeeze(),cmap='gray')
print("label : " +str(label))

image.unsqueeze(0).shape

pred=network(image.unsqueeze(0))

pred.shape

pred

label

pred.argmax(dim=1)

F.softmax(pred,dim=1)

train_loader=torch.utils.data.DataLoader(train_set, 
                                         batch_size=10)

samples=next(iter(train_loader))

images, labels=samples

images.shape

grid=torchvision.utils.make_grid(images, nrow=10)
plt.figure(figsize=(15,15))
plt.imshow(np.transpose(grid,(1,2,0)))
print("label "+str(labels ))

preds=network(images)

preds.shape

preds

preds.argmax(dim=1)

labels

import  torch.optim as optim

torch.set_grad_enabled(True)

train_loader=torch.utils.data.DataLoader(train_set, batch_size=100)
optimizer=optim.Adam(network.parameters(), lr=0.01)
batch=next(iter(train_loader))
images,labels=batch
preds=network(images)
loss=F.cross_entropy(preds,labels)
loss.backward()
optimizer.step()

print('loss1 ' +str(loss.item()))
preds=network(images)
loss=F.cross_entropy(preds, labels)
print('loss2 ' +str(loss.item()))

